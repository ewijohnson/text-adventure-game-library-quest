{
 "cells": [
  {
   "cell_type": "code",
   "execution_count": null,
   "metadata": {
    "collapsed": true
   },
   "outputs": [],
   "source": [
    "This is just a random test"
   ]
  },
  {
   "cell_type": "code",
   "execution_count": 3,
   "metadata": {},
   "outputs": [
    {
     "name": "stdout",
     "output_type": "stream",
     "text": [
      "The weather is cold\n",
      "The weather is hot\n",
      "The weather is blizzard\n",
      "The weather is thunderstorm\n",
      "The weather is rainy\n",
      "The weather is warm\n",
      "The weather is cool\n",
      "The weather is foggy\n"
     ]
    }
   ],
   "source": [
    "weather_types = ['cold', 'hot', 'blizzard', 'thunderstorm', 'rainy', 'warm', 'cool', 'foggy']\n",
    "index = 0\n",
    "for type in weather_types:\n",
    "    print('The weather is', weather_types[index])\n",
    "    index += 1"
   ]
  },
  {
   "cell_type": "code",
   "execution_count": null,
   "metadata": {
    "collapsed": true
   },
   "outputs": [],
   "source": [
    "\n"
   ]
  }
 ],
 "metadata": {
  "kernelspec": {
   "display_name": "Python 3",
   "language": "python",
   "name": "python3"
  },
  "language_info": {
   "codemirror_mode": {
    "name": "ipython",
    "version": 3
   },
   "file_extension": ".py",
   "mimetype": "text/x-python",
   "name": "python",
   "nbconvert_exporter": "python",
   "pygments_lexer": "ipython3",
   "version": "3.6.3"
  }
 },
 "nbformat": 4,
 "nbformat_minor": 2
}
